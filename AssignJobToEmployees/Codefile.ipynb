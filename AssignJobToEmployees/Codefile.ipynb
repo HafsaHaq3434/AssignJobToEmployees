{
  "cells": [
    {
      "cell_type": "code",
      "execution_count": null,
      "metadata": {
        "id": "pS29xyd1Jlaj"
      },
      "outputs": [],
      "source": [
        "!unzip /content/grantwatch.zip -d /content/\n"
      ]
    },
    {
      "cell_type": "code",
      "execution_count": null,
      "metadata": {
        "id": "oYHWRximdOv6",
        "colab": {
          "base_uri": "https://localhost:8080/",
          "height": 244
        },
        "outputId": "85e0665e-57fb-4473-8486-a8b8be3fea4f"
      },
      "outputs": [
        {
          "output_type": "error",
          "ename": "FileNotFoundError",
          "evalue": "ignored",
          "traceback": [
            "\u001b[0;31m---------------------------------------------------------------------------\u001b[0m",
            "\u001b[0;31mFileNotFoundError\u001b[0m                         Traceback (most recent call last)",
            "\u001b[0;32m<ipython-input-1-15508e56384f>\u001b[0m in \u001b[0;36m<module>\u001b[0;34m()\u001b[0m\n\u001b[1;32m      1\u001b[0m \u001b[0;32mimport\u001b[0m \u001b[0mos\u001b[0m\u001b[0;34m\u001b[0m\u001b[0;34m\u001b[0m\u001b[0m\n\u001b[0;32m----> 2\u001b[0;31m \u001b[0mfile_list\u001b[0m\u001b[0;34m=\u001b[0m\u001b[0mos\u001b[0m\u001b[0;34m.\u001b[0m\u001b[0mlistdir\u001b[0m\u001b[0;34m(\u001b[0m\u001b[0;34mr\"/content/grantwatch\"\u001b[0m\u001b[0;34m)\u001b[0m\u001b[0;34m\u001b[0m\u001b[0;34m\u001b[0m\u001b[0m\n\u001b[0m\u001b[1;32m      3\u001b[0m \u001b[0;32mfor\u001b[0m \u001b[0mi\u001b[0m \u001b[0;32min\u001b[0m \u001b[0mfile_list\u001b[0m\u001b[0;34m:\u001b[0m\u001b[0;34m\u001b[0m\u001b[0;34m\u001b[0m\u001b[0m\n\u001b[1;32m      4\u001b[0m   \u001b[0mpath\u001b[0m\u001b[0;34m=\u001b[0m\u001b[0;34mf'/content/grantwatch/{file_list[0]}'\u001b[0m\u001b[0;34m\u001b[0m\u001b[0;34m\u001b[0m\u001b[0m\n\u001b[1;32m      5\u001b[0m \u001b[0;34m\u001b[0m\u001b[0m\n",
            "\u001b[0;31mFileNotFoundError\u001b[0m: [Errno 2] No such file or directory: '/content/grantwatch'"
          ]
        }
      ],
      "source": [
        "import os\n",
        "file_list=os.listdir(r\"/content/grantwatch\")\n",
        "for i in file_list:\n",
        "  path=f'/content/grantwatch/{file_list[0]}'\n",
        "\n",
        "  with open(path,'r') as f:\n",
        "    new_f1=f.read()\n",
        "# print(new_f1)\n",
        "# new_f1\n",
        "# len(new_f1)\n",
        "print(path)\n",
        "print(type(new_f1))"
      ]
    },
    {
      "cell_type": "code",
      "source": [
        "import nltk\n",
        "from nltk.tokenize import sent_tokenize\n",
        "nltk.download('punkt')"
      ],
      "metadata": {
        "colab": {
          "base_uri": "https://localhost:8080/"
        },
        "id": "jhrK-htwA_0h",
        "outputId": "f37a3b5f-732e-4742-d603-a24874f5513b"
      },
      "execution_count": null,
      "outputs": [
        {
          "output_type": "stream",
          "name": "stderr",
          "text": [
            "[nltk_data] Downloading package punkt to /root/nltk_data...\n",
            "[nltk_data]   Unzipping tokenizers/punkt.zip.\n"
          ]
        },
        {
          "output_type": "execute_result",
          "data": {
            "text/plain": [
              "True"
            ]
          },
          "metadata": {},
          "execution_count": 2
        }
      ]
    },
    {
      "cell_type": "code",
      "source": [
        "def sen_tokenizer(grantwatchfile):\n",
        "    new_file=sent_tokenize(grantwatchfile)\n",
        "    return new_file"
      ],
      "metadata": {
        "id": "v_KFBFvcA5I-"
      },
      "execution_count": null,
      "outputs": []
    },
    {
      "cell_type": "code",
      "source": [
        "import re\n",
        "# def funding_is_intended_to(new_file):\n",
        "#   k=\"\"\n",
        "#   list1=[]\n",
        "#   for i in new_file:\n",
        "#     x = re.sub(\"\\n\", \"\", i)\n",
        "#     y=re.findall('Funding is intended to.*.$',x)\n",
        "#     if y:\n",
        "#       print(y)\n",
        "#       k=\"\".join([y[0],k])\n",
        "#   if k==\"\":\n",
        "#     k='Nan'\n",
        "#   list1.append(k)\n",
        "#  # return list1\n",
        "# print(list1)\n",
        "def funding_is_intended_to(new_file):\n",
        "  k=\"\"\n",
        "  col1=[]\n",
        "  for i in new_file:\n",
        "    x = re.sub(\"\\n\", \"\", i)\n",
        "    y=re.findall('funding is intended to.*.$',x,re.I)\n",
        "    if y:\n",
        "      k=\"\".join([y[0],k])\n",
        "  if k==\"\":\n",
        "    k='Nan'\n",
        "  col1.append(k)\n",
        "  return col1"
      ],
      "metadata": {
        "id": "0Xva7kR4_QjO"
      },
      "execution_count": null,
      "outputs": []
    },
    {
      "cell_type": "code",
      "source": [
        "# def applications_must(new_file):\n",
        "#   values=\"\"\n",
        "#   col1=[]\n",
        "#   for i in new_file:\n",
        "#     removed_newline = re.sub(\"\\n\", \"\", i)\n",
        "#     values_list=re.findall('Applications must.*.$',removed_newline,re.I)\n",
        "#     if values_list:\n",
        "#         values=\"\".join([values_list[0],values])\n",
        "#   if values==\"\":\n",
        "#     values='Nan'\n",
        "#   col1.append(values)\n",
        "#   return col1\n",
        "def Application_must(new_file):\n",
        "  k=\"\"\n",
        "  col1=[]\n",
        "  for i in new_file:\n",
        "    x = re.sub(\"\\n\", \"\", i)\n",
        "    y=re.findall('Applications must.*.$',x,re.I)\n",
        "    if y:\n",
        "      k=\"\".join([y[0],k])\n",
        "  if k==\"\":\n",
        "    k='Nan'\n",
        "  col1.append(k)\n",
        "  return col1"
      ],
      "metadata": {
        "id": "P0_jLKxcBcfK"
      },
      "execution_count": null,
      "outputs": []
    },
    {
      "cell_type": "code",
      "source": [
        "def Name_of_File(file,i):\n",
        "  col1=[]\n",
        "  name=file[i]\n",
        "  col1.append(name)\n",
        "  return col1\n"
      ],
      "metadata": {
        "id": "vkFAAsa84H3B"
      },
      "execution_count": null,
      "outputs": []
    },
    {
      "cell_type": "code",
      "source": [
        "def Grantwatch_ID(new_file):\n",
        "  col1=[]\n",
        "  flag=False\n",
        "  for i in new_file:\n",
        "    x = re.sub('\\n','',i)\n",
        "    y=re.findall('GrantWatch ID#:.*\\d',x)\n",
        "    if y:\n",
        "      for j in y:\n",
        "         z=re.findall('[0-9]+',j)\n",
        "         col1.append(z[0])\n",
        "         flag=True\n",
        "  if flag==False:\n",
        "    col1.append('Nan')  \n",
        "  return col1\n"
      ],
      "metadata": {
        "id": "TXVCN6RV6htP"
      },
      "execution_count": null,
      "outputs": []
    },
    {
      "cell_type": "code",
      "source": [
        "import pandas as pd\n",
        "import os"
      ],
      "metadata": {
        "id": "xBqi_lSA6vaS"
      },
      "execution_count": null,
      "outputs": []
    },
    {
      "cell_type": "code",
      "source": [
        "files=os.listdir(r\"/content/grantwatch\")\n",
        "df = pd.DataFrame()\n",
        "for i in range(len(files)):\n",
        "  path=f'/content/grantwatch/{files[i]}'\n",
        "  with open(path,'r') as f:\n",
        "    grantwatchfile=f.read()\n",
        "    sent=sent_tokenize(grantwatchfile)\n",
        "    funding_col=funding_is_intended_to(sent)\n",
        "    application_col=Application_must(sent)\n",
        "    gid_col=Grantwatch_ID(sent)\n",
        "    name_col=Name_of_File(files,i)\n",
        "    data = [{'Name': name_col[0],'Funding is intended to':funding_col[0],'Applications must':application_col[0],'GrantWatch ID':gid_col}]  \n",
        "    df=df.append(data)\n",
        "df.to_csv(\"hafsa.csv\", sep=',',index=False)\n"
      ],
      "metadata": {
        "id": "v1rNpZjK6m-b"
      },
      "execution_count": null,
      "outputs": []
    },
    {
      "cell_type": "code",
      "source": [],
      "metadata": {
        "id": "R1oZZndC6010"
      },
      "execution_count": null,
      "outputs": []
    }
  ],
  "metadata": {
    "colab": {
      "provenance": [],
      "collapsed_sections": []
    },
    "kernelspec": {
      "display_name": "Python 3",
      "name": "python3"
    },
    "language_info": {
      "name": "python"
    }
  },
  "nbformat": 4,
  "nbformat_minor": 0
}